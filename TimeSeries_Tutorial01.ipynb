{
 "cells": [
  {
   "cell_type": "code",
   "execution_count": 1,
   "metadata": {},
   "outputs": [],
   "source": [
    "import pandas as pd\n",
    "import os"
   ]
  },
  {
   "cell_type": "code",
   "execution_count": 2,
   "metadata": {},
   "outputs": [],
   "source": [
    "# Adjusting the folder and file (using raw string)\n",
    "# Warning: dir() is a bult in function in Python\n",
    "tdir = r\"C:\\Users\\henri\\Documents\\Henrique\\Trabalho\\Python\\Pandas\\Tutoriais\"\n",
    "file = \"HistoricalQuotes_Amazon_1Y.csv\"\n",
    "ffile = tdir + \"\\\\\" + file"
   ]
  },
  {
   "cell_type": "code",
   "execution_count": 3,
   "metadata": {},
   "outputs": [
    {
     "name": "stdout",
     "output_type": "stream",
     "text": [
      "C:\\Users\\henri\\Documents\\Henrique\\Trabalho\\Python\\Pandas\\Tutoriais\\HistoricalQuotes_Amazon_1Y.csv\n"
     ]
    }
   ],
   "source": [
    "print(ffile)"
   ]
  },
  {
   "cell_type": "code",
   "execution_count": 4,
   "metadata": {},
   "outputs": [
    {
     "data": {
      "text/html": [
       "<div>\n",
       "<style scoped>\n",
       "    .dataframe tbody tr th:only-of-type {\n",
       "        vertical-align: middle;\n",
       "    }\n",
       "\n",
       "    .dataframe tbody tr th {\n",
       "        vertical-align: top;\n",
       "    }\n",
       "\n",
       "    .dataframe thead th {\n",
       "        text-align: right;\n",
       "    }\n",
       "</style>\n",
       "<table border=\"1\" class=\"dataframe\">\n",
       "  <thead>\n",
       "    <tr style=\"text-align: right;\">\n",
       "      <th></th>\n",
       "      <th>Date</th>\n",
       "      <th>Close</th>\n",
       "      <th>Open</th>\n",
       "      <th>High</th>\n",
       "      <th>Low</th>\n",
       "      <th>Volume</th>\n",
       "    </tr>\n",
       "  </thead>\n",
       "  <tbody>\n",
       "    <tr>\n",
       "      <th>0</th>\n",
       "      <td>2/28/2020</td>\n",
       "      <td>1883.75</td>\n",
       "      <td>1814.63</td>\n",
       "      <td>1889.76</td>\n",
       "      <td>1811.13</td>\n",
       "      <td>9493797</td>\n",
       "    </tr>\n",
       "    <tr>\n",
       "      <th>1</th>\n",
       "      <td>2/27/2020</td>\n",
       "      <td>1884.30</td>\n",
       "      <td>1934.38</td>\n",
       "      <td>1975.00</td>\n",
       "      <td>1882.76</td>\n",
       "      <td>8143993</td>\n",
       "    </tr>\n",
       "    <tr>\n",
       "      <th>2</th>\n",
       "      <td>2/26/2020</td>\n",
       "      <td>1979.59</td>\n",
       "      <td>1970.28</td>\n",
       "      <td>2014.67</td>\n",
       "      <td>1960.45</td>\n",
       "      <td>5240402</td>\n",
       "    </tr>\n",
       "    <tr>\n",
       "      <th>3</th>\n",
       "      <td>2/25/2020</td>\n",
       "      <td>1972.74</td>\n",
       "      <td>2026.42</td>\n",
       "      <td>2034.60</td>\n",
       "      <td>1958.42</td>\n",
       "      <td>6219094</td>\n",
       "    </tr>\n",
       "    <tr>\n",
       "      <th>4</th>\n",
       "      <td>2/24/2020</td>\n",
       "      <td>2009.29</td>\n",
       "      <td>2003.18</td>\n",
       "      <td>2039.30</td>\n",
       "      <td>1987.97</td>\n",
       "      <td>6546997</td>\n",
       "    </tr>\n",
       "  </tbody>\n",
       "</table>\n",
       "</div>"
      ],
      "text/plain": [
       "        Date    Close     Open     High      Low   Volume\n",
       "0  2/28/2020  1883.75  1814.63  1889.76  1811.13  9493797\n",
       "1  2/27/2020  1884.30  1934.38  1975.00  1882.76  8143993\n",
       "2  2/26/2020  1979.59  1970.28  2014.67  1960.45  5240402\n",
       "3  2/25/2020  1972.74  2026.42  2034.60  1958.42  6219094\n",
       "4  2/24/2020  2009.29  2003.18  2039.30  1987.97  6546997"
      ]
     },
     "execution_count": 4,
     "metadata": {},
     "output_type": "execute_result"
    }
   ],
   "source": [
    "df = pd.read_csv(ffile)\n",
    "df.head(5)"
   ]
  },
  {
   "cell_type": "code",
   "execution_count": 5,
   "metadata": {},
   "outputs": [
    {
     "data": {
      "text/plain": [
       "pandas.core.series.Series"
      ]
     },
     "execution_count": 5,
     "metadata": {},
     "output_type": "execute_result"
    }
   ],
   "source": [
    "type(df.Date)"
   ]
  },
  {
   "cell_type": "code",
   "execution_count": 6,
   "metadata": {},
   "outputs": [
    {
     "data": {
      "text/plain": [
       "str"
      ]
     },
     "execution_count": 6,
     "metadata": {},
     "output_type": "execute_result"
    }
   ],
   "source": [
    "type(df.Date[0])"
   ]
  },
  {
   "cell_type": "code",
   "execution_count": 7,
   "metadata": {},
   "outputs": [],
   "source": [
    "df1 = pd.read_csv(ffile, parse_dates=[\"Date\"])"
   ]
  },
  {
   "cell_type": "code",
   "execution_count": 8,
   "metadata": {},
   "outputs": [
    {
     "data": {
      "text/plain": [
       "pandas._libs.tslibs.timestamps.Timestamp"
      ]
     },
     "execution_count": 8,
     "metadata": {},
     "output_type": "execute_result"
    }
   ],
   "source": [
    "type(df1.Date[0])"
   ]
  },
  {
   "cell_type": "code",
   "execution_count": 9,
   "metadata": {},
   "outputs": [],
   "source": [
    "df2 = pd.read_csv(ffile, parse_dates=[\"Date\"], index_col=[\"Date\"])"
   ]
  },
  {
   "cell_type": "code",
   "execution_count": 10,
   "metadata": {},
   "outputs": [
    {
     "data": {
      "text/html": [
       "<div>\n",
       "<style scoped>\n",
       "    .dataframe tbody tr th:only-of-type {\n",
       "        vertical-align: middle;\n",
       "    }\n",
       "\n",
       "    .dataframe tbody tr th {\n",
       "        vertical-align: top;\n",
       "    }\n",
       "\n",
       "    .dataframe thead th {\n",
       "        text-align: right;\n",
       "    }\n",
       "</style>\n",
       "<table border=\"1\" class=\"dataframe\">\n",
       "  <thead>\n",
       "    <tr style=\"text-align: right;\">\n",
       "      <th></th>\n",
       "      <th>Close</th>\n",
       "      <th>Open</th>\n",
       "      <th>High</th>\n",
       "      <th>Low</th>\n",
       "      <th>Volume</th>\n",
       "    </tr>\n",
       "    <tr>\n",
       "      <th>Date</th>\n",
       "      <th></th>\n",
       "      <th></th>\n",
       "      <th></th>\n",
       "      <th></th>\n",
       "      <th></th>\n",
       "    </tr>\n",
       "  </thead>\n",
       "  <tbody>\n",
       "    <tr>\n",
       "      <th>2020-02-28</th>\n",
       "      <td>1883.75</td>\n",
       "      <td>1814.63</td>\n",
       "      <td>1889.76</td>\n",
       "      <td>1811.13</td>\n",
       "      <td>9493797</td>\n",
       "    </tr>\n",
       "    <tr>\n",
       "      <th>2020-02-27</th>\n",
       "      <td>1884.30</td>\n",
       "      <td>1934.38</td>\n",
       "      <td>1975.00</td>\n",
       "      <td>1882.76</td>\n",
       "      <td>8143993</td>\n",
       "    </tr>\n",
       "    <tr>\n",
       "      <th>2020-02-26</th>\n",
       "      <td>1979.59</td>\n",
       "      <td>1970.28</td>\n",
       "      <td>2014.67</td>\n",
       "      <td>1960.45</td>\n",
       "      <td>5240402</td>\n",
       "    </tr>\n",
       "  </tbody>\n",
       "</table>\n",
       "</div>"
      ],
      "text/plain": [
       "              Close     Open     High      Low   Volume\n",
       "Date                                                   \n",
       "2020-02-28  1883.75  1814.63  1889.76  1811.13  9493797\n",
       "2020-02-27  1884.30  1934.38  1975.00  1882.76  8143993\n",
       "2020-02-26  1979.59  1970.28  2014.67  1960.45  5240402"
      ]
     },
     "execution_count": 10,
     "metadata": {},
     "output_type": "execute_result"
    }
   ],
   "source": [
    "df2.head(3)"
   ]
  },
  {
   "cell_type": "code",
   "execution_count": 11,
   "metadata": {},
   "outputs": [
    {
     "data": {
      "text/plain": [
       "DatetimeIndex(['2020-02-28', '2020-02-27', '2020-02-26', '2020-02-25',\n",
       "               '2020-02-24', '2020-02-21', '2020-02-20', '2020-02-19',\n",
       "               '2020-02-18', '2020-02-14',\n",
       "               ...\n",
       "               '2019-03-14', '2019-03-13', '2019-03-12', '2019-03-11',\n",
       "               '2019-03-08', '2019-03-07', '2019-03-06', '2019-03-05',\n",
       "               '2019-03-04', '2019-03-01'],\n",
       "              dtype='datetime64[ns]', name='Date', length=252, freq=None)"
      ]
     },
     "execution_count": 11,
     "metadata": {},
     "output_type": "execute_result"
    }
   ],
   "source": [
    "df2.index"
   ]
  },
  {
   "cell_type": "code",
   "execution_count": 12,
   "metadata": {},
   "outputs": [
    {
     "data": {
      "text/plain": [
       "Index([' Close', ' Open', ' High', ' Low', ' Volume'], dtype='object')"
      ]
     },
     "execution_count": 12,
     "metadata": {},
     "output_type": "execute_result"
    }
   ],
   "source": [
    "df2.columns   # See that there is an empty space before the title"
   ]
  },
  {
   "cell_type": "code",
   "execution_count": 13,
   "metadata": {},
   "outputs": [],
   "source": [
    "df2 = df2.rename(columns=lambda x: str(x).strip())"
   ]
  },
  {
   "cell_type": "code",
   "execution_count": 14,
   "metadata": {},
   "outputs": [
    {
     "data": {
      "text/plain": [
       "Index(['Close', 'Open', 'High', 'Low', 'Volume'], dtype='object')"
      ]
     },
     "execution_count": 14,
     "metadata": {},
     "output_type": "execute_result"
    }
   ],
   "source": [
    "df2.columns"
   ]
  },
  {
   "cell_type": "code",
   "execution_count": 15,
   "metadata": {},
   "outputs": [
    {
     "data": {
      "text/plain": [
       "count      20.000000\n",
       "mean     1853.170500\n",
       "std        71.411723\n",
       "min      1699.240000\n",
       "25%      1807.425000\n",
       "50%      1879.875000\n",
       "75%      1908.155000\n",
       "max      1933.330000\n",
       "Name: Open, dtype: float64"
      ]
     },
     "execution_count": 15,
     "metadata": {},
     "output_type": "execute_result"
    }
   ],
   "source": [
    "df2[\"2019-06\"].Open.describe()"
   ]
  },
  {
   "cell_type": "code",
   "execution_count": 16,
   "metadata": {},
   "outputs": [
    {
     "data": {
      "text/html": [
       "<div>\n",
       "<style scoped>\n",
       "    .dataframe tbody tr th:only-of-type {\n",
       "        vertical-align: middle;\n",
       "    }\n",
       "\n",
       "    .dataframe tbody tr th {\n",
       "        vertical-align: top;\n",
       "    }\n",
       "\n",
       "    .dataframe thead th {\n",
       "        text-align: right;\n",
       "    }\n",
       "</style>\n",
       "<table border=\"1\" class=\"dataframe\">\n",
       "  <thead>\n",
       "    <tr style=\"text-align: right;\">\n",
       "      <th></th>\n",
       "      <th>Close</th>\n",
       "      <th>Open</th>\n",
       "      <th>High</th>\n",
       "      <th>Low</th>\n",
       "      <th>Volume</th>\n",
       "    </tr>\n",
       "    <tr>\n",
       "      <th>Date</th>\n",
       "      <th></th>\n",
       "      <th></th>\n",
       "      <th></th>\n",
       "      <th></th>\n",
       "      <th></th>\n",
       "    </tr>\n",
       "  </thead>\n",
       "  <tbody>\n",
       "    <tr>\n",
       "      <th>2019-06-10</th>\n",
       "      <td>1860.63</td>\n",
       "      <td>1822.00</td>\n",
       "      <td>1884.87</td>\n",
       "      <td>1818.00</td>\n",
       "      <td>5371007</td>\n",
       "    </tr>\n",
       "    <tr>\n",
       "      <th>2019-06-07</th>\n",
       "      <td>1804.03</td>\n",
       "      <td>1763.70</td>\n",
       "      <td>1806.25</td>\n",
       "      <td>1759.49</td>\n",
       "      <td>4808246</td>\n",
       "    </tr>\n",
       "    <tr>\n",
       "      <th>2019-06-06</th>\n",
       "      <td>1754.36</td>\n",
       "      <td>1737.71</td>\n",
       "      <td>1760.00</td>\n",
       "      <td>1726.13</td>\n",
       "      <td>3689272</td>\n",
       "    </tr>\n",
       "    <tr>\n",
       "      <th>2019-06-05</th>\n",
       "      <td>1738.50</td>\n",
       "      <td>1749.60</td>\n",
       "      <td>1752.00</td>\n",
       "      <td>1715.25</td>\n",
       "      <td>4239782</td>\n",
       "    </tr>\n",
       "    <tr>\n",
       "      <th>2019-06-04</th>\n",
       "      <td>1729.56</td>\n",
       "      <td>1699.24</td>\n",
       "      <td>1730.82</td>\n",
       "      <td>1680.89</td>\n",
       "      <td>5679121</td>\n",
       "    </tr>\n",
       "    <tr>\n",
       "      <th>2019-06-03</th>\n",
       "      <td>1692.69</td>\n",
       "      <td>1760.01</td>\n",
       "      <td>1766.29</td>\n",
       "      <td>1672.00</td>\n",
       "      <td>9098708</td>\n",
       "    </tr>\n",
       "  </tbody>\n",
       "</table>\n",
       "</div>"
      ],
      "text/plain": [
       "              Close     Open     High      Low   Volume\n",
       "Date                                                   \n",
       "2019-06-10  1860.63  1822.00  1884.87  1818.00  5371007\n",
       "2019-06-07  1804.03  1763.70  1806.25  1759.49  4808246\n",
       "2019-06-06  1754.36  1737.71  1760.00  1726.13  3689272\n",
       "2019-06-05  1738.50  1749.60  1752.00  1715.25  4239782\n",
       "2019-06-04  1729.56  1699.24  1730.82  1680.89  5679121\n",
       "2019-06-03  1692.69  1760.01  1766.29  1672.00  9098708"
      ]
     },
     "execution_count": 16,
     "metadata": {},
     "output_type": "execute_result"
    }
   ],
   "source": [
    "df2[\"2019-06-10\":\"2019-06-01\"]"
   ]
  },
  {
   "cell_type": "code",
   "execution_count": 17,
   "metadata": {},
   "outputs": [
    {
     "data": {
      "text/html": [
       "<div>\n",
       "<style scoped>\n",
       "    .dataframe tbody tr th:only-of-type {\n",
       "        vertical-align: middle;\n",
       "    }\n",
       "\n",
       "    .dataframe tbody tr th {\n",
       "        vertical-align: top;\n",
       "    }\n",
       "\n",
       "    .dataframe thead th {\n",
       "        text-align: right;\n",
       "    }\n",
       "</style>\n",
       "<table border=\"1\" class=\"dataframe\">\n",
       "  <thead>\n",
       "    <tr style=\"text-align: right;\">\n",
       "      <th></th>\n",
       "      <th>Close</th>\n",
       "      <th>Open</th>\n",
       "      <th>High</th>\n",
       "      <th>Low</th>\n",
       "      <th>Volume</th>\n",
       "    </tr>\n",
       "    <tr>\n",
       "      <th>Date</th>\n",
       "      <th></th>\n",
       "      <th></th>\n",
       "      <th></th>\n",
       "      <th></th>\n",
       "      <th></th>\n",
       "    </tr>\n",
       "  </thead>\n",
       "  <tbody>\n",
       "    <tr>\n",
       "      <th>2019-03-31</th>\n",
       "      <td>1722.491905</td>\n",
       "      <td>1719.849048</td>\n",
       "      <td>1737.247619</td>\n",
       "      <td>1705.416190</td>\n",
       "      <td>4.764146e+06</td>\n",
       "    </tr>\n",
       "    <tr>\n",
       "      <th>2019-04-30</th>\n",
       "      <td>1866.202381</td>\n",
       "      <td>1863.626190</td>\n",
       "      <td>1874.405714</td>\n",
       "      <td>1850.939048</td>\n",
       "      <td>3.826060e+06</td>\n",
       "    </tr>\n",
       "    <tr>\n",
       "      <th>2019-05-31</th>\n",
       "      <td>1869.383182</td>\n",
       "      <td>1871.653182</td>\n",
       "      <td>1886.184545</td>\n",
       "      <td>1852.757727</td>\n",
       "      <td>4.464289e+06</td>\n",
       "    </tr>\n",
       "    <tr>\n",
       "      <th>2019-06-30</th>\n",
       "      <td>1852.617500</td>\n",
       "      <td>1853.170500</td>\n",
       "      <td>1868.867000</td>\n",
       "      <td>1835.976500</td>\n",
       "      <td>3.737329e+06</td>\n",
       "    </tr>\n",
       "    <tr>\n",
       "      <th>2019-07-31</th>\n",
       "      <td>1965.882273</td>\n",
       "      <td>1964.912727</td>\n",
       "      <td>1977.383182</td>\n",
       "      <td>1948.632727</td>\n",
       "      <td>3.326857e+06</td>\n",
       "    </tr>\n",
       "    <tr>\n",
       "      <th>2019-08-31</th>\n",
       "      <td>1793.645455</td>\n",
       "      <td>1799.372273</td>\n",
       "      <td>1810.570000</td>\n",
       "      <td>1778.234091</td>\n",
       "      <td>3.635888e+06</td>\n",
       "    </tr>\n",
       "    <tr>\n",
       "      <th>2019-09-30</th>\n",
       "      <td>1799.121000</td>\n",
       "      <td>1801.716000</td>\n",
       "      <td>1812.319500</td>\n",
       "      <td>1784.686000</td>\n",
       "      <td>3.100190e+06</td>\n",
       "    </tr>\n",
       "    <tr>\n",
       "      <th>2019-10-31</th>\n",
       "      <td>1752.331739</td>\n",
       "      <td>1749.137826</td>\n",
       "      <td>1763.666957</td>\n",
       "      <td>1736.604783</td>\n",
       "      <td>3.137663e+06</td>\n",
       "    </tr>\n",
       "    <tr>\n",
       "      <th>2019-11-30</th>\n",
       "      <td>1774.294000</td>\n",
       "      <td>1775.338000</td>\n",
       "      <td>1784.218500</td>\n",
       "      <td>1764.300500</td>\n",
       "      <td>2.603024e+06</td>\n",
       "    </tr>\n",
       "    <tr>\n",
       "      <th>2019-12-31</th>\n",
       "      <td>1785.772857</td>\n",
       "      <td>1786.190000</td>\n",
       "      <td>1797.110000</td>\n",
       "      <td>1773.846667</td>\n",
       "      <td>3.262953e+06</td>\n",
       "    </tr>\n",
       "    <tr>\n",
       "      <th>2020-01-31</th>\n",
       "      <td>1884.237619</td>\n",
       "      <td>1886.055238</td>\n",
       "      <td>1897.997143</td>\n",
       "      <td>1870.354286</td>\n",
       "      <td>4.039964e+06</td>\n",
       "    </tr>\n",
       "    <tr>\n",
       "      <th>2020-02-29</th>\n",
       "      <td>2066.175263</td>\n",
       "      <td>2065.853684</td>\n",
       "      <td>2094.268947</td>\n",
       "      <td>2045.056316</td>\n",
       "      <td>4.871367e+06</td>\n",
       "    </tr>\n",
       "  </tbody>\n",
       "</table>\n",
       "</div>"
      ],
      "text/plain": [
       "                  Close         Open         High          Low        Volume\n",
       "Date                                                                        \n",
       "2019-03-31  1722.491905  1719.849048  1737.247619  1705.416190  4.764146e+06\n",
       "2019-04-30  1866.202381  1863.626190  1874.405714  1850.939048  3.826060e+06\n",
       "2019-05-31  1869.383182  1871.653182  1886.184545  1852.757727  4.464289e+06\n",
       "2019-06-30  1852.617500  1853.170500  1868.867000  1835.976500  3.737329e+06\n",
       "2019-07-31  1965.882273  1964.912727  1977.383182  1948.632727  3.326857e+06\n",
       "2019-08-31  1793.645455  1799.372273  1810.570000  1778.234091  3.635888e+06\n",
       "2019-09-30  1799.121000  1801.716000  1812.319500  1784.686000  3.100190e+06\n",
       "2019-10-31  1752.331739  1749.137826  1763.666957  1736.604783  3.137663e+06\n",
       "2019-11-30  1774.294000  1775.338000  1784.218500  1764.300500  2.603024e+06\n",
       "2019-12-31  1785.772857  1786.190000  1797.110000  1773.846667  3.262953e+06\n",
       "2020-01-31  1884.237619  1886.055238  1897.997143  1870.354286  4.039964e+06\n",
       "2020-02-29  2066.175263  2065.853684  2094.268947  2045.056316  4.871367e+06"
      ]
     },
     "execution_count": 17,
     "metadata": {},
     "output_type": "execute_result"
    }
   ],
   "source": [
    "# Resample: the current data is daily and we will resample for montly\n",
    "df2.resample('M').mean()    # We could apply to 1 specific column"
   ]
  },
  {
   "cell_type": "code",
   "execution_count": 18,
   "metadata": {},
   "outputs": [
    {
     "data": {
      "text/plain": [
       "<matplotlib.axes._subplots.AxesSubplot at 0x26882482be0>"
      ]
     },
     "execution_count": 18,
     "metadata": {},
     "output_type": "execute_result"
    },
    {
     "data": {
      "image/png": "[encoded data removed]",
      "text/plain": [
       "<Figure size 432x288 with 1 Axes>"
      ]
     },
     "metadata": {},
     "output_type": "display_data"
    }
   ],
   "source": [
    "%matplotlib inline\n",
    "df2.Close.plot()"
   ]
  },
  {
   "cell_type": "code",
   "execution_count": 19,
   "metadata": {},
   "outputs": [
    {
     "data": {
      "text/plain": [
       "<matplotlib.axes._subplots.AxesSubplot at 0x268824faef0>"
      ]
     },
     "execution_count": 19,
     "metadata": {},
     "output_type": "execute_result"
    },
    {
     "data": {
      "image/png": "[encoded data removed]",
      "text/plain": [
       "<Figure size 432x288 with 1 Axes>"
      ]
     },
     "metadata": {},
     "output_type": "display_data"
    }
   ],
   "source": [
    "df2.Close.resample('M').mean().plot()    # We could apply different frequencies (D, M, W, etc)"
   ]
  }
 ],
 "metadata": {
  "kernelspec": {
   "display_name": "Python 3",
   "language": "python",
   "name": "python3"
  },
  "language_info": {
   "codemirror_mode": {
    "name": "ipython",
    "version": 3
   },
   "file_extension": ".py",
   "mimetype": "text/x-python",
   "name": "python",
   "nbconvert_exporter": "python",
   "pygments_lexer": "ipython3",
   "version": "3.6.5"
  }
 },
 "nbformat": 4,
 "nbformat_minor": 2
}
