{
 "cells": [
  {
   "cell_type": "code",
   "execution_count": 1,
   "metadata": {},
   "outputs": [],
   "source": [
    "import pandas as pd\n",
    "import os"
   ]
  },
  {
   "cell_type": "code",
   "execution_count": 2,
   "metadata": {},
   "outputs": [],
   "source": [
    "# Adjusting the folder and file (using raw string)\n",
    "# Warning: dir() is a bult in function in Python\n",
    "tdir = r\"C:\\Users\\henri\\OneDrive\\Documentos\\Henrique\\Trabalho\\Python\\Pandas\\Tutoriais\"\n",
    "file = \"HistoricalQuotes_Amazon_1Y_no_dates.csv\"\n",
    "ffile = tdir + \"\\\\\" + file"
   ]
  },
  {
   "cell_type": "code",
   "execution_count": 3,
   "metadata": {},
   "outputs": [
    {
     "name": "stdout",
     "output_type": "stream",
     "text": [
      "C:\\Users\\henri\\OneDrive\\Documentos\\Henrique\\Trabalho\\Python\\Pandas\\Tutoriais\\HistoricalQuotes_Amazon_1Y_no_dates.csv\n"
     ]
    }
   ],
   "source": [
    "print(ffile)"
   ]
  },
  {
   "cell_type": "code",
   "execution_count": 4,
   "metadata": {},
   "outputs": [
    {
     "data": {
      "text/html": [
       "<div>\n",
       "<style scoped>\n",
       "    .dataframe tbody tr th:only-of-type {\n",
       "        vertical-align: middle;\n",
       "    }\n",
       "\n",
       "    .dataframe tbody tr th {\n",
       "        vertical-align: top;\n",
       "    }\n",
       "\n",
       "    .dataframe thead th {\n",
       "        text-align: right;\n",
       "    }\n",
       "</style>\n",
       "<table border=\"1\" class=\"dataframe\">\n",
       "  <thead>\n",
       "    <tr style=\"text-align: right;\">\n",
       "      <th></th>\n",
       "      <th>Close</th>\n",
       "      <th>Open</th>\n",
       "      <th>High</th>\n",
       "      <th>Low</th>\n",
       "      <th>Volume</th>\n",
       "    </tr>\n",
       "  </thead>\n",
       "  <tbody>\n",
       "    <tr>\n",
       "      <th>0</th>\n",
       "      <td>1883.75</td>\n",
       "      <td>1814.63</td>\n",
       "      <td>1889.76</td>\n",
       "      <td>1811.13</td>\n",
       "      <td>9493797</td>\n",
       "    </tr>\n",
       "    <tr>\n",
       "      <th>1</th>\n",
       "      <td>1884.30</td>\n",
       "      <td>1934.38</td>\n",
       "      <td>1975.00</td>\n",
       "      <td>1882.76</td>\n",
       "      <td>8143993</td>\n",
       "    </tr>\n",
       "    <tr>\n",
       "      <th>2</th>\n",
       "      <td>1979.59</td>\n",
       "      <td>1970.28</td>\n",
       "      <td>2014.67</td>\n",
       "      <td>1960.45</td>\n",
       "      <td>5240402</td>\n",
       "    </tr>\n",
       "    <tr>\n",
       "      <th>3</th>\n",
       "      <td>1972.74</td>\n",
       "      <td>2026.42</td>\n",
       "      <td>2034.60</td>\n",
       "      <td>1958.42</td>\n",
       "      <td>6219094</td>\n",
       "    </tr>\n",
       "    <tr>\n",
       "      <th>4</th>\n",
       "      <td>2009.29</td>\n",
       "      <td>2003.18</td>\n",
       "      <td>2039.30</td>\n",
       "      <td>1987.97</td>\n",
       "      <td>6546997</td>\n",
       "    </tr>\n",
       "  </tbody>\n",
       "</table>\n",
       "</div>"
      ],
      "text/plain": [
       "     Close     Open     High      Low   Volume\n",
       "0  1883.75  1814.63  1889.76  1811.13  9493797\n",
       "1  1884.30  1934.38  1975.00  1882.76  8143993\n",
       "2  1979.59  1970.28  2014.67  1960.45  5240402\n",
       "3  1972.74  2026.42  2034.60  1958.42  6219094\n",
       "4  2009.29  2003.18  2039.30  1987.97  6546997"
      ]
     },
     "execution_count": 4,
     "metadata": {},
     "output_type": "execute_result"
    }
   ],
   "source": [
    "df = pd.read_csv(ffile)\n",
    "df.head(5)"
   ]
  },
  {
   "cell_type": "code",
   "execution_count": 22,
   "metadata": {},
   "outputs": [
    {
     "data": {
      "text/plain": [
       "DatetimeIndex(['2019-03-14', '2019-03-15', '2019-03-18', '2019-03-19',\n",
       "               '2019-03-20', '2019-03-21', '2019-03-22', '2019-03-25',\n",
       "               '2019-03-26', '2019-03-27',\n",
       "               ...\n",
       "               '2020-02-17', '2020-02-18', '2020-02-19', '2020-02-20',\n",
       "               '2020-02-21', '2020-02-24', '2020-02-25', '2020-02-26',\n",
       "               '2020-02-27', '2020-02-28'],\n",
       "              dtype='datetime64[ns]', length=252, freq='B')"
      ]
     },
     "execution_count": 22,
     "metadata": {},
     "output_type": "execute_result"
    }
   ],
   "source": [
    "# The command [::-1] was used in order to create the range from latest to the oldest data as initial data\n",
    "rng = pd.date_range(start=\"3/14/2019\", end=\"2/28/2020\", freq=\"B\")#[::-1]\n",
    "rng\n",
    "\n",
    "# Caso se saiba somente a data inicial e o número de períodos:\n",
    "#rng1 = pd.date_range(start='3/14/2019', periods=252, freq='B')\n",
    "#rng1"
   ]
  },
  {
   "cell_type": "code",
   "execution_count": 6,
   "metadata": {},
   "outputs": [],
   "source": [
    "df.set_index(rng, inplace=True)"
   ]
  },
  {
   "cell_type": "code",
   "execution_count": 7,
   "metadata": {},
   "outputs": [
    {
     "data": {
      "text/html": [
       "<div>\n",
       "<style scoped>\n",
       "    .dataframe tbody tr th:only-of-type {\n",
       "        vertical-align: middle;\n",
       "    }\n",
       "\n",
       "    .dataframe tbody tr th {\n",
       "        vertical-align: top;\n",
       "    }\n",
       "\n",
       "    .dataframe thead th {\n",
       "        text-align: right;\n",
       "    }\n",
       "</style>\n",
       "<table border=\"1\" class=\"dataframe\">\n",
       "  <thead>\n",
       "    <tr style=\"text-align: right;\">\n",
       "      <th></th>\n",
       "      <th>Close</th>\n",
       "      <th>Open</th>\n",
       "      <th>High</th>\n",
       "      <th>Low</th>\n",
       "      <th>Volume</th>\n",
       "    </tr>\n",
       "  </thead>\n",
       "  <tbody>\n",
       "    <tr>\n",
       "      <th>2019-03-14</th>\n",
       "      <td>1883.75</td>\n",
       "      <td>1814.63</td>\n",
       "      <td>1889.76</td>\n",
       "      <td>1811.13</td>\n",
       "      <td>9493797</td>\n",
       "    </tr>\n",
       "    <tr>\n",
       "      <th>2019-03-15</th>\n",
       "      <td>1884.30</td>\n",
       "      <td>1934.38</td>\n",
       "      <td>1975.00</td>\n",
       "      <td>1882.76</td>\n",
       "      <td>8143993</td>\n",
       "    </tr>\n",
       "    <tr>\n",
       "      <th>2019-03-18</th>\n",
       "      <td>1979.59</td>\n",
       "      <td>1970.28</td>\n",
       "      <td>2014.67</td>\n",
       "      <td>1960.45</td>\n",
       "      <td>5240402</td>\n",
       "    </tr>\n",
       "    <tr>\n",
       "      <th>2019-03-19</th>\n",
       "      <td>1972.74</td>\n",
       "      <td>2026.42</td>\n",
       "      <td>2034.60</td>\n",
       "      <td>1958.42</td>\n",
       "      <td>6219094</td>\n",
       "    </tr>\n",
       "    <tr>\n",
       "      <th>2019-03-20</th>\n",
       "      <td>2009.29</td>\n",
       "      <td>2003.18</td>\n",
       "      <td>2039.30</td>\n",
       "      <td>1987.97</td>\n",
       "      <td>6546997</td>\n",
       "    </tr>\n",
       "  </tbody>\n",
       "</table>\n",
       "</div>"
      ],
      "text/plain": [
       "              Close     Open     High      Low   Volume\n",
       "2019-03-14  1883.75  1814.63  1889.76  1811.13  9493797\n",
       "2019-03-15  1884.30  1934.38  1975.00  1882.76  8143993\n",
       "2019-03-18  1979.59  1970.28  2014.67  1960.45  5240402\n",
       "2019-03-19  1972.74  2026.42  2034.60  1958.42  6219094\n",
       "2019-03-20  2009.29  2003.18  2039.30  1987.97  6546997"
      ]
     },
     "execution_count": 7,
     "metadata": {},
     "output_type": "execute_result"
    }
   ],
   "source": [
    "df.head()"
   ]
  },
  {
   "cell_type": "code",
   "execution_count": 8,
   "metadata": {},
   "outputs": [
    {
     "data": {
      "text/plain": [
       "Index([' Close', ' Open', ' High', ' Low', ' Volume'], dtype='object')"
      ]
     },
     "execution_count": 8,
     "metadata": {},
     "output_type": "execute_result"
    }
   ],
   "source": [
    "df.columns"
   ]
  },
  {
   "cell_type": "code",
   "execution_count": 9,
   "metadata": {},
   "outputs": [
    {
     "data": {
      "text/plain": [
       "Index(['Close', 'Open', 'High', 'Low', 'Volume'], dtype='object')"
      ]
     },
     "execution_count": 9,
     "metadata": {},
     "output_type": "execute_result"
    }
   ],
   "source": [
    "df = df.rename(columns=lambda x: str(x).strip())\n",
    "df.columns"
   ]
  },
  {
   "cell_type": "code",
   "execution_count": 10,
   "metadata": {},
   "outputs": [
    {
     "data": {
      "text/plain": [
       "<matplotlib.axes._subplots.AxesSubplot at 0x18580943978>"
      ]
     },
     "execution_count": 10,
     "metadata": {},
     "output_type": "execute_result"
    },
    {
     "data": {
      "image/png": "[encoded data removed]",
      "text/plain": [
       "<Figure size 432x288 with 1 Axes>"
      ]
     },
     "metadata": {},
     "output_type": "display_data"
    }
   ],
   "source": [
    "%matplotlib inline\n",
    "df.Close.plot()"
   ]
  },
  {
   "cell_type": "code",
   "execution_count": 16,
   "metadata": {},
   "outputs": [],
   "source": [
    "#df[\"2020-02\"]"
   ]
  },
  {
   "cell_type": "code",
   "execution_count": 12,
   "metadata": {},
   "outputs": [
    {
     "data": {
      "text/plain": [
       "2020-02-03    1777.93\n",
       "2020-02-04    1787.50\n",
       "2020-02-05    1805.77\n",
       "2020-02-06    1782.68\n",
       "2020-02-07    1818.98\n",
       "2020-02-10    1823.75\n",
       "Freq: B, Name: High, dtype: float64"
      ]
     },
     "execution_count": 12,
     "metadata": {},
     "output_type": "execute_result"
    }
   ],
   "source": [
    "#df[\"2020-02-10\":\"2020-02-03\"].High\n",
    "df[\"2020-02-03\":\"2020-02-10\"].High"
   ]
  },
  {
   "cell_type": "code",
   "execution_count": 13,
   "metadata": {},
   "outputs": [
    {
     "data": {
      "text/plain": [
       "1799.4350000000002"
      ]
     },
     "execution_count": 13,
     "metadata": {},
     "output_type": "execute_result"
    }
   ],
   "source": [
    "#df[\"2020-02-10\":\"2020-02-03\"].High.mean()\n",
    "df[\"2020-02-03\":\"2020-02-10\"].High.mean()"
   ]
  },
  {
   "cell_type": "code",
   "execution_count": 17,
   "metadata": {},
   "outputs": [
    {
     "data": {
      "text/html": [
       "<div>\n",
       "<style scoped>\n",
       "    .dataframe tbody tr th:only-of-type {\n",
       "        vertical-align: middle;\n",
       "    }\n",
       "\n",
       "    .dataframe tbody tr th {\n",
       "        vertical-align: top;\n",
       "    }\n",
       "\n",
       "    .dataframe thead th {\n",
       "        text-align: right;\n",
       "    }\n",
       "</style>\n",
       "<table border=\"1\" class=\"dataframe\">\n",
       "  <thead>\n",
       "    <tr style=\"text-align: right;\">\n",
       "      <th></th>\n",
       "      <th>Close</th>\n",
       "      <th>Open</th>\n",
       "      <th>High</th>\n",
       "      <th>Low</th>\n",
       "      <th>Volume</th>\n",
       "    </tr>\n",
       "  </thead>\n",
       "  <tbody>\n",
       "    <tr>\n",
       "      <th>2019-03-31</th>\n",
       "      <td>2160.00</td>\n",
       "      <td>2163.20</td>\n",
       "      <td>2180.25</td>\n",
       "      <td>2155.29</td>\n",
       "      <td>3334264</td>\n",
       "    </tr>\n",
       "    <tr>\n",
       "      <th>2019-04-30</th>\n",
       "      <td>1883.16</td>\n",
       "      <td>1905.37</td>\n",
       "      <td>1906.94</td>\n",
       "      <td>1880.00</td>\n",
       "      <td>2856959</td>\n",
       "    </tr>\n",
       "    <tr>\n",
       "      <th>2019-05-31</th>\n",
       "      <td>1751.60</td>\n",
       "      <td>1751.20</td>\n",
       "      <td>1754.40</td>\n",
       "      <td>1740.13</td>\n",
       "      <td>3119979</td>\n",
       "    </tr>\n",
       "    <tr>\n",
       "      <th>2019-06-30</th>\n",
       "      <td>1788.20</td>\n",
       "      <td>1803.76</td>\n",
       "      <td>1805.90</td>\n",
       "      <td>1783.48</td>\n",
       "      <td>2651086</td>\n",
       "    </tr>\n",
       "    <tr>\n",
       "      <th>2019-07-31</th>\n",
       "      <td>1732.66</td>\n",
       "      <td>1731.63</td>\n",
       "      <td>1747.83</td>\n",
       "      <td>1723.70</td>\n",
       "      <td>2187598</td>\n",
       "    </tr>\n",
       "    <tr>\n",
       "      <th>2019-08-31</th>\n",
       "      <td>1840.72</td>\n",
       "      <td>1821.95</td>\n",
       "      <td>1842.00</td>\n",
       "      <td>1815.58</td>\n",
       "      <td>3325189</td>\n",
       "    </tr>\n",
       "    <tr>\n",
       "      <th>2019-09-30</th>\n",
       "      <td>1787.83</td>\n",
       "      <td>1792.23</td>\n",
       "      <td>1793.77</td>\n",
       "      <td>1753.40</td>\n",
       "      <td>5070258</td>\n",
       "    </tr>\n",
       "    <tr>\n",
       "      <th>2019-10-31</th>\n",
       "      <td>1939.00</td>\n",
       "      <td>1935.89</td>\n",
       "      <td>1941.59</td>\n",
       "      <td>1930.50</td>\n",
       "      <td>1690294</td>\n",
       "    </tr>\n",
       "    <tr>\n",
       "      <th>2019-11-30</th>\n",
       "      <td>1729.56</td>\n",
       "      <td>1699.24</td>\n",
       "      <td>1730.82</td>\n",
       "      <td>1680.89</td>\n",
       "      <td>5679121</td>\n",
       "    </tr>\n",
       "    <tr>\n",
       "      <th>2019-12-31</th>\n",
       "      <td>1900.82</td>\n",
       "      <td>1913.33</td>\n",
       "      <td>1921.55</td>\n",
       "      <td>1881.87</td>\n",
       "      <td>3962915</td>\n",
       "    </tr>\n",
       "    <tr>\n",
       "      <th>2020-01-31</th>\n",
       "      <td>1780.75</td>\n",
       "      <td>1786.58</td>\n",
       "      <td>1792.86</td>\n",
       "      <td>1776.63</td>\n",
       "      <td>3316831</td>\n",
       "    </tr>\n",
       "  </tbody>\n",
       "</table>\n",
       "</div>"
      ],
      "text/plain": [
       "              Close     Open     High      Low   Volume\n",
       "2019-03-31  2160.00  2163.20  2180.25  2155.29  3334264\n",
       "2019-04-30  1883.16  1905.37  1906.94  1880.00  2856959\n",
       "2019-05-31  1751.60  1751.20  1754.40  1740.13  3119979\n",
       "2019-06-30  1788.20  1803.76  1805.90  1783.48  2651086\n",
       "2019-07-31  1732.66  1731.63  1747.83  1723.70  2187598\n",
       "2019-08-31  1840.72  1821.95  1842.00  1815.58  3325189\n",
       "2019-09-30  1787.83  1792.23  1793.77  1753.40  5070258\n",
       "2019-10-31  1939.00  1935.89  1941.59  1930.50  1690294\n",
       "2019-11-30  1729.56  1699.24  1730.82  1680.89  5679121\n",
       "2019-12-31  1900.82  1913.33  1921.55  1881.87  3962915\n",
       "2020-01-31  1780.75  1786.58  1792.86  1776.63  3316831"
      ]
     },
     "execution_count": 17,
     "metadata": {},
     "output_type": "execute_result"
    }
   ],
   "source": [
    "df.asfreq('M', method='pad') #Não funciona se o range estiver invertido\n",
    "# A frequencia pode ser weekly, daily, hour ver:\n",
    "# https://pandas.pydata.org/pandas-docs/stable/user_guide/timeseries.html#offset-aliases"
   ]
  },
  {
   "cell_type": "code",
   "execution_count": 21,
   "metadata": {},
   "outputs": [
    {
     "data": {
      "text/html": [
       "<div>\n",
       "<style scoped>\n",
       "    .dataframe tbody tr th:only-of-type {\n",
       "        vertical-align: middle;\n",
       "    }\n",
       "\n",
       "    .dataframe tbody tr th {\n",
       "        vertical-align: top;\n",
       "    }\n",
       "\n",
       "    .dataframe thead th {\n",
       "        text-align: right;\n",
       "    }\n",
       "</style>\n",
       "<table border=\"1\" class=\"dataframe\">\n",
       "  <thead>\n",
       "    <tr style=\"text-align: right;\">\n",
       "      <th></th>\n",
       "      <th>Close</th>\n",
       "      <th>Open</th>\n",
       "      <th>High</th>\n",
       "      <th>Low</th>\n",
       "      <th>Volume</th>\n",
       "    </tr>\n",
       "  </thead>\n",
       "  <tbody>\n",
       "    <tr>\n",
       "      <th>2020-02-03</th>\n",
       "      <td>1773.42</td>\n",
       "      <td>1770.00</td>\n",
       "      <td>1777.93</td>\n",
       "      <td>1753.47</td>\n",
       "      <td>3030860</td>\n",
       "    </tr>\n",
       "    <tr>\n",
       "      <th>2020-02-04</th>\n",
       "      <td>1765.70</td>\n",
       "      <td>1784.13</td>\n",
       "      <td>1787.50</td>\n",
       "      <td>1745.68</td>\n",
       "      <td>4316646</td>\n",
       "    </tr>\n",
       "    <tr>\n",
       "      <th>2020-02-05</th>\n",
       "      <td>1783.76</td>\n",
       "      <td>1793.00</td>\n",
       "      <td>1805.77</td>\n",
       "      <td>1773.36</td>\n",
       "      <td>4848654</td>\n",
       "    </tr>\n",
       "    <tr>\n",
       "      <th>2020-02-06</th>\n",
       "      <td>1774.26</td>\n",
       "      <td>1757.79</td>\n",
       "      <td>1782.68</td>\n",
       "      <td>1747.50</td>\n",
       "      <td>5098182</td>\n",
       "    </tr>\n",
       "    <tr>\n",
       "      <th>2020-02-07</th>\n",
       "      <td>1764.77</td>\n",
       "      <td>1810.17</td>\n",
       "      <td>1818.98</td>\n",
       "      <td>1763.11</td>\n",
       "      <td>6347858</td>\n",
       "    </tr>\n",
       "    <tr>\n",
       "      <th>2020-02-08</th>\n",
       "      <td>1764.77</td>\n",
       "      <td>1810.17</td>\n",
       "      <td>1818.98</td>\n",
       "      <td>1763.11</td>\n",
       "      <td>6347858</td>\n",
       "    </tr>\n",
       "    <tr>\n",
       "      <th>2020-02-09</th>\n",
       "      <td>1764.77</td>\n",
       "      <td>1810.17</td>\n",
       "      <td>1818.98</td>\n",
       "      <td>1763.11</td>\n",
       "      <td>6347858</td>\n",
       "    </tr>\n",
       "    <tr>\n",
       "      <th>2020-02-10</th>\n",
       "      <td>1819.26</td>\n",
       "      <td>1796.26</td>\n",
       "      <td>1823.75</td>\n",
       "      <td>1787.28</td>\n",
       "      <td>5740075</td>\n",
       "    </tr>\n",
       "    <tr>\n",
       "      <th>2020-02-11</th>\n",
       "      <td>1797.27</td>\n",
       "      <td>1769.94</td>\n",
       "      <td>1799.50</td>\n",
       "      <td>1767.03</td>\n",
       "      <td>6153806</td>\n",
       "    </tr>\n",
       "    <tr>\n",
       "      <th>2020-02-12</th>\n",
       "      <td>1761.85</td>\n",
       "      <td>1753.51</td>\n",
       "      <td>1784.16</td>\n",
       "      <td>1753.51</td>\n",
       "      <td>6339232</td>\n",
       "    </tr>\n",
       "    <tr>\n",
       "      <th>2020-02-13</th>\n",
       "      <td>1742.15</td>\n",
       "      <td>1712.70</td>\n",
       "      <td>1750.00</td>\n",
       "      <td>1712.63</td>\n",
       "      <td>5403392</td>\n",
       "    </tr>\n",
       "    <tr>\n",
       "      <th>2020-02-14</th>\n",
       "      <td>1712.36</td>\n",
       "      <td>1703.00</td>\n",
       "      <td>1718.80</td>\n",
       "      <td>1693.13</td>\n",
       "      <td>7538300</td>\n",
       "    </tr>\n",
       "    <tr>\n",
       "      <th>2020-02-15</th>\n",
       "      <td>1712.36</td>\n",
       "      <td>1703.00</td>\n",
       "      <td>1718.80</td>\n",
       "      <td>1693.13</td>\n",
       "      <td>7538300</td>\n",
       "    </tr>\n",
       "    <tr>\n",
       "      <th>2020-02-16</th>\n",
       "      <td>1712.36</td>\n",
       "      <td>1703.00</td>\n",
       "      <td>1718.80</td>\n",
       "      <td>1693.13</td>\n",
       "      <td>7538300</td>\n",
       "    </tr>\n",
       "    <tr>\n",
       "      <th>2020-02-17</th>\n",
       "      <td>1686.22</td>\n",
       "      <td>1691.20</td>\n",
       "      <td>1702.00</td>\n",
       "      <td>1684.34</td>\n",
       "      <td>2937759</td>\n",
       "    </tr>\n",
       "    <tr>\n",
       "      <th>2020-02-18</th>\n",
       "      <td>1690.81</td>\n",
       "      <td>1683.00</td>\n",
       "      <td>1700.00</td>\n",
       "      <td>1679.35</td>\n",
       "      <td>3540837</td>\n",
       "    </tr>\n",
       "    <tr>\n",
       "      <th>2020-02-19</th>\n",
       "      <td>1673.10</td>\n",
       "      <td>1669.00</td>\n",
       "      <td>1684.27</td>\n",
       "      <td>1660.98</td>\n",
       "      <td>3562993</td>\n",
       "    </tr>\n",
       "    <tr>\n",
       "      <th>2020-02-20</th>\n",
       "      <td>1670.62</td>\n",
       "      <td>1626.12</td>\n",
       "      <td>1672.29</td>\n",
       "      <td>1626.01</td>\n",
       "      <td>3797298</td>\n",
       "    </tr>\n",
       "    <tr>\n",
       "      <th>2020-02-21</th>\n",
       "      <td>1620.80</td>\n",
       "      <td>1604.01</td>\n",
       "      <td>1622.72</td>\n",
       "      <td>1586.57</td>\n",
       "      <td>4659945</td>\n",
       "    </tr>\n",
       "    <tr>\n",
       "      <th>2020-02-22</th>\n",
       "      <td>1620.80</td>\n",
       "      <td>1604.01</td>\n",
       "      <td>1622.72</td>\n",
       "      <td>1586.57</td>\n",
       "      <td>4659945</td>\n",
       "    </tr>\n",
       "    <tr>\n",
       "      <th>2020-02-23</th>\n",
       "      <td>1620.80</td>\n",
       "      <td>1604.01</td>\n",
       "      <td>1622.72</td>\n",
       "      <td>1586.57</td>\n",
       "      <td>4659945</td>\n",
       "    </tr>\n",
       "    <tr>\n",
       "      <th>2020-02-24</th>\n",
       "      <td>1625.95</td>\n",
       "      <td>1667.37</td>\n",
       "      <td>1669.75</td>\n",
       "      <td>1620.51</td>\n",
       "      <td>4945564</td>\n",
       "    </tr>\n",
       "    <tr>\n",
       "      <th>2020-02-25</th>\n",
       "      <td>1668.95</td>\n",
       "      <td>1695.97</td>\n",
       "      <td>1697.75</td>\n",
       "      <td>1668.28</td>\n",
       "      <td>3984996</td>\n",
       "    </tr>\n",
       "    <tr>\n",
       "      <th>2020-02-26</th>\n",
       "      <td>1692.43</td>\n",
       "      <td>1702.95</td>\n",
       "      <td>1707.80</td>\n",
       "      <td>1689.01</td>\n",
       "      <td>3667977</td>\n",
       "    </tr>\n",
       "    <tr>\n",
       "      <th>2020-02-27</th>\n",
       "      <td>1696.17</td>\n",
       "      <td>1685.00</td>\n",
       "      <td>1709.43</td>\n",
       "      <td>1674.36</td>\n",
       "      <td>6154237</td>\n",
       "    </tr>\n",
       "    <tr>\n",
       "      <th>2020-02-28</th>\n",
       "      <td>1671.73</td>\n",
       "      <td>1655.13</td>\n",
       "      <td>1674.26</td>\n",
       "      <td>1651.00</td>\n",
       "      <td>4661618</td>\n",
       "    </tr>\n",
       "  </tbody>\n",
       "</table>\n",
       "</div>"
      ],
      "text/plain": [
       "              Close     Open     High      Low   Volume\n",
       "2020-02-03  1773.42  1770.00  1777.93  1753.47  3030860\n",
       "2020-02-04  1765.70  1784.13  1787.50  1745.68  4316646\n",
       "2020-02-05  1783.76  1793.00  1805.77  1773.36  4848654\n",
       "2020-02-06  1774.26  1757.79  1782.68  1747.50  5098182\n",
       "2020-02-07  1764.77  1810.17  1818.98  1763.11  6347858\n",
       "2020-02-08  1764.77  1810.17  1818.98  1763.11  6347858\n",
       "2020-02-09  1764.77  1810.17  1818.98  1763.11  6347858\n",
       "2020-02-10  1819.26  1796.26  1823.75  1787.28  5740075\n",
       "2020-02-11  1797.27  1769.94  1799.50  1767.03  6153806\n",
       "2020-02-12  1761.85  1753.51  1784.16  1753.51  6339232\n",
       "2020-02-13  1742.15  1712.70  1750.00  1712.63  5403392\n",
       "2020-02-14  1712.36  1703.00  1718.80  1693.13  7538300\n",
       "2020-02-15  1712.36  1703.00  1718.80  1693.13  7538300\n",
       "2020-02-16  1712.36  1703.00  1718.80  1693.13  7538300\n",
       "2020-02-17  1686.22  1691.20  1702.00  1684.34  2937759\n",
       "2020-02-18  1690.81  1683.00  1700.00  1679.35  3540837\n",
       "2020-02-19  1673.10  1669.00  1684.27  1660.98  3562993\n",
       "2020-02-20  1670.62  1626.12  1672.29  1626.01  3797298\n",
       "2020-02-21  1620.80  1604.01  1622.72  1586.57  4659945\n",
       "2020-02-22  1620.80  1604.01  1622.72  1586.57  4659945\n",
       "2020-02-23  1620.80  1604.01  1622.72  1586.57  4659945\n",
       "2020-02-24  1625.95  1667.37  1669.75  1620.51  4945564\n",
       "2020-02-25  1668.95  1695.97  1697.75  1668.28  3984996\n",
       "2020-02-26  1692.43  1702.95  1707.80  1689.01  3667977\n",
       "2020-02-27  1696.17  1685.00  1709.43  1674.36  6154237\n",
       "2020-02-28  1671.73  1655.13  1674.26  1651.00  4661618"
      ]
     },
     "execution_count": 21,
     "metadata": {},
     "output_type": "execute_result"
    }
   ],
   "source": [
    "df[\"2020-02\"].asfreq('D', method='pad') #Observe que ele completa os finais de semana"
   ]
  },
  {
   "cell_type": "code",
   "execution_count": null,
   "metadata": {},
   "outputs": [],
   "source": []
  }
 ],
 "metadata": {
  "kernelspec": {
   "display_name": "Python 3",
   "language": "python",
   "name": "python3"
  },
  "language_info": {
   "codemirror_mode": {
    "name": "ipython",
    "version": 3
   },
   "file_extension": ".py",
   "mimetype": "text/x-python",
   "name": "python",
   "nbconvert_exporter": "python",
   "pygments_lexer": "ipython3",
   "version": "3.6.5"
  }
 },
 "nbformat": 4,
 "nbformat_minor": 2
}
